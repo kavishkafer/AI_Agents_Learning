{
 "cells": [
  {
   "metadata": {
    "ExecuteTime": {
     "end_time": "2025-06-07T05:43:51.482120Z",
     "start_time": "2025-06-07T05:43:51.476440Z"
    }
   },
   "cell_type": "code",
   "source": [
    "from dotenv import load_dotenv\n",
    "from smolagents import LiteLLMModel\n",
    "import os\n",
    "from huggingface_hub import InferenceClient\n",
    "\n",
    "load_dotenv()\n",
    "HF_Token = os.getenv(\"HF_TOKEN\")\n",
    "\n",
    "\n",
    "\n",
    "model = LiteLLMModel(\n",
    "    model_id=\"ollama_chat/qwen2.5:latest\",\n",
    "    api_base=\"http://localhost:11434\",\n",
    "    num_ctx=8192,\n",
    ")"
   ],
   "id": "74736fe3866fe602",
   "outputs": [],
   "execution_count": 4
  },
  {
   "cell_type": "code",
   "id": "initial_id",
   "metadata": {
    "collapsed": true,
    "ExecuteTime": {
     "end_time": "2025-06-07T05:45:41.564587Z",
     "start_time": "2025-06-07T05:43:51.485640Z"
    }
   },
   "source": [
    "from langchain.docstore.document import Document\n",
    "from langchain.text_splitter import RecursiveCharacterTextSplitter\n",
    "from smolagents import Tool\n",
    "from langchain_community.retrievers import BM25Retriever\n",
    "from smolagents import CodeAgent, InferenceClientModel\n",
    "\n",
    "class PartyPlanningRetrieverTool(Tool):\n",
    "    name = \"party_planning_retriever\"\n",
    "    description = \"Uses semantic search to retrieve relevant party planning ideas for Alfred’s superhero-themed party at Wayne Manor.\"\n",
    "    inputs = {\n",
    "        \"query\": {\n",
    "            \"type\": \"string\",\n",
    "            \"description\": \"The query to perform. This should be a query related to party planning or superhero themes.\",\n",
    "        }\n",
    "    }\n",
    "    output_type = \"string\"\n",
    "\n",
    "    def __init__(self, docs, **kwargs):\n",
    "        super().__init__(**kwargs)\n",
    "        self.retriever = BM25Retriever.from_documents(\n",
    "            docs, k=5  # Retrieve the top 5 documents\n",
    "        )\n",
    "\n",
    "    def forward(self, query: str) -> str:\n",
    "        assert isinstance(query, str), \"Your search query must be a string\"\n",
    "\n",
    "        docs = self.retriever.invoke(\n",
    "            query,\n",
    "        )\n",
    "        return \"\\nRetrieved ideas:\\n\" + \"\".join(\n",
    "            [\n",
    "                f\"\\n\\n===== Idea {str(i)} =====\\n\" + doc.page_content\n",
    "                for i, doc in enumerate(docs)\n",
    "            ]\n",
    "        )\n",
    "\n",
    "# Simulate a knowledge base about party planning\n",
    "party_ideas = [\n",
    "    {\"text\": \"A superhero-themed masquerade ball with luxury decor, including gold accents and velvet curtains.\", \"source\": \"Party Ideas 1\"},\n",
    "    {\"text\": \"Hire a professional DJ who can play themed music for superheroes like Batman and Wonder Woman.\", \"source\": \"Entertainment Ideas\"},\n",
    "    {\"text\": \"For catering, serve dishes named after superheroes, like 'The Hulk's Green Smoothie' and 'Iron Man's Power Steak.'\", \"source\": \"Catering Ideas\"},\n",
    "    {\"text\": \"Decorate with iconic superhero logos and projections of Gotham and other superhero cities around the venue.\", \"source\": \"Decoration Ideas\"},\n",
    "    {\"text\": \"Interactive experiences with VR where guests can engage in superhero simulations or compete in themed games.\", \"source\": \"Entertainment Ideas\"}\n",
    "]\n",
    "\n",
    "source_docs = [\n",
    "    Document(page_content=doc[\"text\"], metadata={\"source\": doc[\"source\"]})\n",
    "    for doc in party_ideas\n",
    "]\n",
    "\n",
    "# Split the documents into smaller chunks for more efficient search\n",
    "text_splitter = RecursiveCharacterTextSplitter(\n",
    "    chunk_size=500,\n",
    "    chunk_overlap=50,\n",
    "    add_start_index=True,\n",
    "    strip_whitespace=True,\n",
    "    separators=[\"\\n\\n\", \"\\n\", \".\", \" \", \"\"],\n",
    ")\n",
    "docs_processed = text_splitter.split_documents(source_docs)\n",
    "\n",
    "# Create the retriever tool\n",
    "party_planning_retriever = PartyPlanningRetrieverTool(docs_processed)\n",
    "\n",
    "# Initialize the agent\n",
    "agent = CodeAgent(tools=[party_planning_retriever], model=model)\n",
    "\n",
    "# Example usage\n",
    "response = agent.run(\n",
    "    \"Find ideas for a luxury superhero-themed party, including entertainment, catering, and decoration options.\"\n",
    ")\n",
    "\n",
    "print(response)"
   ],
   "outputs": [
    {
     "data": {
      "text/plain": [
       "\u001B[38;2;212;183;2m╭─\u001B[0m\u001B[38;2;212;183;2m───────────────────────────────────────────────────\u001B[0m\u001B[38;2;212;183;2m \u001B[0m\u001B[1;38;2;212;183;2mNew run\u001B[0m\u001B[38;2;212;183;2m \u001B[0m\u001B[38;2;212;183;2m───────────────────────────────────────────────────\u001B[0m\u001B[38;2;212;183;2m─╮\u001B[0m\n",
       "\u001B[38;2;212;183;2m│\u001B[0m                                                                                                                 \u001B[38;2;212;183;2m│\u001B[0m\n",
       "\u001B[38;2;212;183;2m│\u001B[0m \u001B[1mFind ideas for a luxury superhero-themed party, including entertainment, catering, and decoration options.\u001B[0m      \u001B[38;2;212;183;2m│\u001B[0m\n",
       "\u001B[38;2;212;183;2m│\u001B[0m                                                                                                                 \u001B[38;2;212;183;2m│\u001B[0m\n",
       "\u001B[38;2;212;183;2m╰─\u001B[0m\u001B[38;2;212;183;2m LiteLLMModel - ollama_chat/qwen2.5:latest \u001B[0m\u001B[38;2;212;183;2m────────────────────────────────────────────────────────────────────\u001B[0m\u001B[38;2;212;183;2m─╯\u001B[0m\n"
      ],
      "text/html": [
       "<pre style=\"white-space:pre;overflow-x:auto;line-height:normal;font-family:Menlo,'DejaVu Sans Mono',consolas,'Courier New',monospace\"><span style=\"color: #d4b702; text-decoration-color: #d4b702\">╭──────────────────────────────────────────────────── </span><span style=\"color: #d4b702; text-decoration-color: #d4b702; font-weight: bold\">New run</span><span style=\"color: #d4b702; text-decoration-color: #d4b702\"> ────────────────────────────────────────────────────╮</span>\n",
       "<span style=\"color: #d4b702; text-decoration-color: #d4b702\">│</span>                                                                                                                 <span style=\"color: #d4b702; text-decoration-color: #d4b702\">│</span>\n",
       "<span style=\"color: #d4b702; text-decoration-color: #d4b702\">│</span> <span style=\"font-weight: bold\">Find ideas for a luxury superhero-themed party, including entertainment, catering, and decoration options.</span>      <span style=\"color: #d4b702; text-decoration-color: #d4b702\">│</span>\n",
       "<span style=\"color: #d4b702; text-decoration-color: #d4b702\">│</span>                                                                                                                 <span style=\"color: #d4b702; text-decoration-color: #d4b702\">│</span>\n",
       "<span style=\"color: #d4b702; text-decoration-color: #d4b702\">╰─ LiteLLMModel - ollama_chat/qwen2.5:latest ─────────────────────────────────────────────────────────────────────╯</span>\n",
       "</pre>\n"
      ]
     },
     "metadata": {},
     "output_type": "display_data"
    },
    {
     "data": {
      "text/plain": [
       "\u001B[38;2;212;183;2m━━━━━━━━━━━━━━━━━━━━━━━━━━━━━━━━━━━━━━━━━━━━━━━━━━━━━ \u001B[0m\u001B[1mStep \u001B[0m\u001B[1;36m1\u001B[0m\u001B[38;2;212;183;2m ━━━━━━━━━━━━━━━━━━━━━━━━━━━━━━━━━━━━━━━━━━━━━━━━━━━━━━\u001B[0m\n"
      ],
      "text/html": [
       "<pre style=\"white-space:pre;overflow-x:auto;line-height:normal;font-family:Menlo,'DejaVu Sans Mono',consolas,'Courier New',monospace\"><span style=\"color: #d4b702; text-decoration-color: #d4b702\">━━━━━━━━━━━━━━━━━━━━━━━━━━━━━━━━━━━━━━━━━━━━━━━━━━━━━ </span><span style=\"font-weight: bold\">Step </span><span style=\"color: #008080; text-decoration-color: #008080; font-weight: bold\">1</span><span style=\"color: #d4b702; text-decoration-color: #d4b702\"> ━━━━━━━━━━━━━━━━━━━━━━━━━━━━━━━━━━━━━━━━━━━━━━━━━━━━━━</span>\n",
       "</pre>\n"
      ]
     },
     "metadata": {},
     "output_type": "display_data"
    },
    {
     "data": {
      "text/plain": [
       " ─ \u001B[1mExecuting parsed code:\u001B[0m ──────────────────────────────────────────────────────────────────────────────────────── \n",
       "  \u001B[38;2;248;248;242;48;2;39;40;34mparty_ideas\u001B[0m\u001B[38;2;248;248;242;48;2;39;40;34m \u001B[0m\u001B[38;2;255;70;137;48;2;39;40;34m=\u001B[0m\u001B[38;2;248;248;242;48;2;39;40;34m \u001B[0m\u001B[38;2;248;248;242;48;2;39;40;34mparty_planning_retriever\u001B[0m\u001B[38;2;248;248;242;48;2;39;40;34m(\u001B[0m\u001B[38;2;248;248;242;48;2;39;40;34mquery\u001B[0m\u001B[38;2;255;70;137;48;2;39;40;34m=\u001B[0m\u001B[38;2;230;219;116;48;2;39;40;34m\"\u001B[0m\u001B[38;2;230;219;116;48;2;39;40;34mluxury superhero-themed party\u001B[0m\u001B[38;2;230;219;116;48;2;39;40;34m\"\u001B[0m\u001B[38;2;248;248;242;48;2;39;40;34m)\u001B[0m\u001B[48;2;39;40;34m                                  \u001B[0m  \n",
       "  \u001B[38;2;248;248;242;48;2;39;40;34mprint\u001B[0m\u001B[38;2;248;248;242;48;2;39;40;34m(\u001B[0m\u001B[38;2;248;248;242;48;2;39;40;34mparty_ideas\u001B[0m\u001B[38;2;248;248;242;48;2;39;40;34m)\u001B[0m\u001B[48;2;39;40;34m                                                                                             \u001B[0m  \n",
       " ───────────────────────────────────────────────────────────────────────────────────────────────────────────────── \n"
      ],
      "text/html": [
       "<pre style=\"white-space:pre;overflow-x:auto;line-height:normal;font-family:Menlo,'DejaVu Sans Mono',consolas,'Courier New',monospace\"> ─ <span style=\"font-weight: bold\">Executing parsed code:</span> ──────────────────────────────────────────────────────────────────────────────────────── \n",
       "  <span style=\"color: #f8f8f2; text-decoration-color: #f8f8f2; background-color: #272822\">party_ideas </span><span style=\"color: #ff4689; text-decoration-color: #ff4689; background-color: #272822\">=</span><span style=\"color: #f8f8f2; text-decoration-color: #f8f8f2; background-color: #272822\"> party_planning_retriever(query</span><span style=\"color: #ff4689; text-decoration-color: #ff4689; background-color: #272822\">=</span><span style=\"color: #e6db74; text-decoration-color: #e6db74; background-color: #272822\">\"luxury superhero-themed party\"</span><span style=\"color: #f8f8f2; text-decoration-color: #f8f8f2; background-color: #272822\">)</span><span style=\"background-color: #272822\">                                  </span>  \n",
       "  <span style=\"color: #f8f8f2; text-decoration-color: #f8f8f2; background-color: #272822\">print(party_ideas)</span><span style=\"background-color: #272822\">                                                                                             </span>  \n",
       " ───────────────────────────────────────────────────────────────────────────────────────────────────────────────── \n",
       "</pre>\n"
      ]
     },
     "metadata": {},
     "output_type": "display_data"
    },
    {
     "data": {
      "text/plain": [
       "\u001B[1mExecution logs:\u001B[0m\n",
       "\n",
       "Retrieved ideas:\n",
       "\n",
       "\n",
       "===== Idea 0 =====\n",
       "A superhero-themed masquerade ball with luxury decor, including gold accents and velvet curtains.\n",
       "\n",
       "===== Idea 1 =====\n",
       "Interactive experiences with VR where guests can engage in superhero simulations or compete in themed games.\n",
       "\n",
       "===== Idea 2 =====\n",
       "Decorate with iconic superhero logos and projections of Gotham and other superhero cities around the venue.\n",
       "\n",
       "===== Idea 3 =====\n",
       "For catering, serve dishes named after superheroes, like 'The Hulk's Green Smoothie' and 'Iron Man's Power Steak.'\n",
       "\n",
       "===== Idea 4 =====\n",
       "Hire a professional DJ who can play themed music for superheroes like Batman and Wonder Woman.\n",
       "\n",
       "Out: None\n"
      ],
      "text/html": [
       "<pre style=\"white-space:pre;overflow-x:auto;line-height:normal;font-family:Menlo,'DejaVu Sans Mono',consolas,'Courier New',monospace\"><span style=\"font-weight: bold\">Execution logs:</span>\n",
       "\n",
       "Retrieved ideas:\n",
       "\n",
       "\n",
       "===== Idea 0 =====\n",
       "A superhero-themed masquerade ball with luxury decor, including gold accents and velvet curtains.\n",
       "\n",
       "===== Idea 1 =====\n",
       "Interactive experiences with VR where guests can engage in superhero simulations or compete in themed games.\n",
       "\n",
       "===== Idea 2 =====\n",
       "Decorate with iconic superhero logos and projections of Gotham and other superhero cities around the venue.\n",
       "\n",
       "===== Idea 3 =====\n",
       "For catering, serve dishes named after superheroes, like 'The Hulk's Green Smoothie' and 'Iron Man's Power Steak.'\n",
       "\n",
       "===== Idea 4 =====\n",
       "Hire a professional DJ who can play themed music for superheroes like Batman and Wonder Woman.\n",
       "\n",
       "Out: None\n",
       "</pre>\n"
      ]
     },
     "metadata": {},
     "output_type": "display_data"
    },
    {
     "data": {
      "text/plain": [
       "\u001B[2m[Step 1: Duration 92.03 seconds| Input tokens: 2,065 | Output tokens: 59]\u001B[0m\n"
      ],
      "text/html": [
       "<pre style=\"white-space:pre;overflow-x:auto;line-height:normal;font-family:Menlo,'DejaVu Sans Mono',consolas,'Courier New',monospace\"><span style=\"color: #7f7f7f; text-decoration-color: #7f7f7f\">[Step 1: Duration 92.03 seconds| Input tokens: 2,065 | Output tokens: 59]</span>\n",
       "</pre>\n"
      ]
     },
     "metadata": {},
     "output_type": "display_data"
    },
    {
     "data": {
      "text/plain": [
       "\u001B[38;2;212;183;2m━━━━━━━━━━━━━━━━━━━━━━━━━━━━━━━━━━━━━━━━━━━━━━━━━━━━━ \u001B[0m\u001B[1mStep \u001B[0m\u001B[1;36m2\u001B[0m\u001B[38;2;212;183;2m ━━━━━━━━━━━━━━━━━━━━━━━━━━━━━━━━━━━━━━━━━━━━━━━━━━━━━━\u001B[0m\n"
      ],
      "text/html": [
       "<pre style=\"white-space:pre;overflow-x:auto;line-height:normal;font-family:Menlo,'DejaVu Sans Mono',consolas,'Courier New',monospace\"><span style=\"color: #d4b702; text-decoration-color: #d4b702\">━━━━━━━━━━━━━━━━━━━━━━━━━━━━━━━━━━━━━━━━━━━━━━━━━━━━━ </span><span style=\"font-weight: bold\">Step </span><span style=\"color: #008080; text-decoration-color: #008080; font-weight: bold\">2</span><span style=\"color: #d4b702; text-decoration-color: #d4b702\"> ━━━━━━━━━━━━━━━━━━━━━━━━━━━━━━━━━━━━━━━━━━━━━━━━━━━━━━</span>\n",
       "</pre>\n"
      ]
     },
     "metadata": {},
     "output_type": "display_data"
    },
    {
     "data": {
      "text/plain": [
       " ─ \u001B[1mExecuting parsed code:\u001B[0m ──────────────────────────────────────────────────────────────────────────────────────── \n",
       "  \u001B[38;2;248;248;242;48;2;39;40;34mfinal_answer_variable\u001B[0m\u001B[38;2;248;248;242;48;2;39;40;34m \u001B[0m\u001B[38;2;255;70;137;48;2;39;40;34m=\u001B[0m\u001B[38;2;248;248;242;48;2;39;40;34m \u001B[0m\u001B[38;2;248;248;242;48;2;39;40;34m(\u001B[0m\u001B[48;2;39;40;34m                                                                                      \u001B[0m  \n",
       "  \u001B[38;2;248;248;242;48;2;39;40;34m    \u001B[0m\u001B[38;2;230;219;116;48;2;39;40;34m\"\u001B[0m\u001B[38;2;230;219;116;48;2;39;40;34mFor decoration, consider a masquerade ball with gold accents and velvet curtains.\u001B[0m\u001B[38;2;174;129;255;48;2;39;40;34m\\n\u001B[0m\u001B[38;2;230;219;116;48;2;39;40;34m\"\u001B[0m\u001B[48;2;39;40;34m                      \u001B[0m  \n",
       "  \u001B[38;2;248;248;242;48;2;39;40;34m    \u001B[0m\u001B[38;2;230;219;116;48;2;39;40;34m\"\u001B[0m\u001B[38;2;174;129;255;48;2;39;40;34m\\n\u001B[0m\u001B[38;2;230;219;116;48;2;39;40;34m\"\u001B[0m\u001B[48;2;39;40;34m                                                                                                       \u001B[0m  \n",
       "  \u001B[38;2;248;248;242;48;2;39;40;34m    \u001B[0m\u001B[38;2;230;219;116;48;2;39;40;34m\"\u001B[0m\u001B[38;2;230;219;116;48;2;39;40;34mInteractive experiences could include VR simulations or themed games for guests to engage in.\u001B[0m\u001B[38;2;174;129;255;48;2;39;40;34m\\n\u001B[0m\u001B[38;2;230;219;116;48;2;39;40;34m\"\u001B[0m\u001B[48;2;39;40;34m          \u001B[0m  \n",
       "  \u001B[38;2;248;248;242;48;2;39;40;34m    \u001B[0m\u001B[38;2;230;219;116;48;2;39;40;34m\"\u001B[0m\u001B[38;2;174;129;255;48;2;39;40;34m\\n\u001B[0m\u001B[38;2;230;219;116;48;2;39;40;34m\"\u001B[0m\u001B[48;2;39;40;34m                                                                                                       \u001B[0m  \n",
       "  \u001B[38;2;248;248;242;48;2;39;40;34m    \u001B[0m\u001B[38;2;230;219;116;48;2;39;40;34m\"\u001B[0m\u001B[38;2;230;219;116;48;2;39;40;34mDecorate the venue with iconic superhero logos and projections of Gotham and other superhero cities.\u001B[0m\u001B[38;2;174;129;255;48;2;39;40;34m\\n\u001B[0m\u001B[38;2;230;219;116;48;2;39;40;34m\"\u001B[0m\u001B[48;2;39;40;34m   \u001B[0m  \n",
       "  \u001B[38;2;248;248;242;48;2;39;40;34m    \u001B[0m\u001B[38;2;230;219;116;48;2;39;40;34m\"\u001B[0m\u001B[38;2;174;129;255;48;2;39;40;34m\\n\u001B[0m\u001B[38;2;230;219;116;48;2;39;40;34m\"\u001B[0m\u001B[48;2;39;40;34m                                                                                                       \u001B[0m  \n",
       "  \u001B[38;2;248;248;242;48;2;39;40;34m    \u001B[0m\u001B[38;2;230;219;116;48;2;39;40;34m\"\u001B[0m\u001B[38;2;230;219;116;48;2;39;40;34mCatering options should include dishes named after superheroes, such as \u001B[0m\u001B[38;2;230;219;116;48;2;39;40;34m'\u001B[0m\u001B[38;2;230;219;116;48;2;39;40;34mThe Hulk\u001B[0m\u001B[38;2;230;219;116;48;2;39;40;34m'\u001B[0m\u001B[38;2;230;219;116;48;2;39;40;34ms Green Smoothie\u001B[0m\u001B[38;2;230;219;116;48;2;39;40;34m'\u001B[0m\u001B[38;2;230;219;116;48;2;39;40;34m and \u001B[0m\u001B[48;2;39;40;34m  \u001B[0m  \n",
       "  \u001B[38;2;230;219;116;48;2;39;40;34m'\u001B[0m\u001B[38;2;230;219;116;48;2;39;40;34mIron Man\u001B[0m\u001B[38;2;230;219;116;48;2;39;40;34m'\u001B[0m\u001B[38;2;230;219;116;48;2;39;40;34ms Power Steak\u001B[0m\u001B[38;2;230;219;116;48;2;39;40;34m'\u001B[0m\u001B[38;2;230;219;116;48;2;39;40;34m.\u001B[0m\u001B[38;2;174;129;255;48;2;39;40;34m\\n\u001B[0m\u001B[38;2;230;219;116;48;2;39;40;34m\"\u001B[0m\u001B[48;2;39;40;34m                                                                                   \u001B[0m  \n",
       "  \u001B[38;2;248;248;242;48;2;39;40;34m    \u001B[0m\u001B[38;2;230;219;116;48;2;39;40;34m\"\u001B[0m\u001B[38;2;174;129;255;48;2;39;40;34m\\n\u001B[0m\u001B[38;2;230;219;116;48;2;39;40;34m\"\u001B[0m\u001B[48;2;39;40;34m                                                                                                       \u001B[0m  \n",
       "  \u001B[38;2;248;248;242;48;2;39;40;34m    \u001B[0m\u001B[38;2;230;219;116;48;2;39;40;34m\"\u001B[0m\u001B[38;2;230;219;116;48;2;39;40;34mA professional DJ can play themed music for superheroes like Batman and Wonder Woman.\u001B[0m\u001B[38;2;230;219;116;48;2;39;40;34m\"\u001B[0m\u001B[48;2;39;40;34m                    \u001B[0m  \n",
       "  \u001B[38;2;248;248;242;48;2;39;40;34m)\u001B[0m\u001B[48;2;39;40;34m                                                                                                              \u001B[0m  \n",
       "  \u001B[38;2;248;248;242;48;2;39;40;34mfinal_answer\u001B[0m\u001B[38;2;248;248;242;48;2;39;40;34m(\u001B[0m\u001B[38;2;248;248;242;48;2;39;40;34mfinal_answer_variable\u001B[0m\u001B[38;2;248;248;242;48;2;39;40;34m)\u001B[0m\u001B[48;2;39;40;34m                                                                            \u001B[0m  \n",
       " ───────────────────────────────────────────────────────────────────────────────────────────────────────────────── \n"
      ],
      "text/html": [
       "<pre style=\"white-space:pre;overflow-x:auto;line-height:normal;font-family:Menlo,'DejaVu Sans Mono',consolas,'Courier New',monospace\"> ─ <span style=\"font-weight: bold\">Executing parsed code:</span> ──────────────────────────────────────────────────────────────────────────────────────── \n",
       "  <span style=\"color: #f8f8f2; text-decoration-color: #f8f8f2; background-color: #272822\">final_answer_variable </span><span style=\"color: #ff4689; text-decoration-color: #ff4689; background-color: #272822\">=</span><span style=\"color: #f8f8f2; text-decoration-color: #f8f8f2; background-color: #272822\"> (</span><span style=\"background-color: #272822\">                                                                                      </span>  \n",
       "  <span style=\"color: #f8f8f2; text-decoration-color: #f8f8f2; background-color: #272822\">    </span><span style=\"color: #e6db74; text-decoration-color: #e6db74; background-color: #272822\">\"For decoration, consider a masquerade ball with gold accents and velvet curtains.</span><span style=\"color: #ae81ff; text-decoration-color: #ae81ff; background-color: #272822\">\\n</span><span style=\"color: #e6db74; text-decoration-color: #e6db74; background-color: #272822\">\"</span><span style=\"background-color: #272822\">                      </span>  \n",
       "  <span style=\"color: #f8f8f2; text-decoration-color: #f8f8f2; background-color: #272822\">    </span><span style=\"color: #e6db74; text-decoration-color: #e6db74; background-color: #272822\">\"</span><span style=\"color: #ae81ff; text-decoration-color: #ae81ff; background-color: #272822\">\\n</span><span style=\"color: #e6db74; text-decoration-color: #e6db74; background-color: #272822\">\"</span><span style=\"background-color: #272822\">                                                                                                       </span>  \n",
       "  <span style=\"color: #f8f8f2; text-decoration-color: #f8f8f2; background-color: #272822\">    </span><span style=\"color: #e6db74; text-decoration-color: #e6db74; background-color: #272822\">\"Interactive experiences could include VR simulations or themed games for guests to engage in.</span><span style=\"color: #ae81ff; text-decoration-color: #ae81ff; background-color: #272822\">\\n</span><span style=\"color: #e6db74; text-decoration-color: #e6db74; background-color: #272822\">\"</span><span style=\"background-color: #272822\">          </span>  \n",
       "  <span style=\"color: #f8f8f2; text-decoration-color: #f8f8f2; background-color: #272822\">    </span><span style=\"color: #e6db74; text-decoration-color: #e6db74; background-color: #272822\">\"</span><span style=\"color: #ae81ff; text-decoration-color: #ae81ff; background-color: #272822\">\\n</span><span style=\"color: #e6db74; text-decoration-color: #e6db74; background-color: #272822\">\"</span><span style=\"background-color: #272822\">                                                                                                       </span>  \n",
       "  <span style=\"color: #f8f8f2; text-decoration-color: #f8f8f2; background-color: #272822\">    </span><span style=\"color: #e6db74; text-decoration-color: #e6db74; background-color: #272822\">\"Decorate the venue with iconic superhero logos and projections of Gotham and other superhero cities.</span><span style=\"color: #ae81ff; text-decoration-color: #ae81ff; background-color: #272822\">\\n</span><span style=\"color: #e6db74; text-decoration-color: #e6db74; background-color: #272822\">\"</span><span style=\"background-color: #272822\">   </span>  \n",
       "  <span style=\"color: #f8f8f2; text-decoration-color: #f8f8f2; background-color: #272822\">    </span><span style=\"color: #e6db74; text-decoration-color: #e6db74; background-color: #272822\">\"</span><span style=\"color: #ae81ff; text-decoration-color: #ae81ff; background-color: #272822\">\\n</span><span style=\"color: #e6db74; text-decoration-color: #e6db74; background-color: #272822\">\"</span><span style=\"background-color: #272822\">                                                                                                       </span>  \n",
       "  <span style=\"color: #f8f8f2; text-decoration-color: #f8f8f2; background-color: #272822\">    </span><span style=\"color: #e6db74; text-decoration-color: #e6db74; background-color: #272822\">\"Catering options should include dishes named after superheroes, such as 'The Hulk's Green Smoothie' and </span><span style=\"background-color: #272822\">  </span>  \n",
       "  <span style=\"color: #e6db74; text-decoration-color: #e6db74; background-color: #272822\">'Iron Man's Power Steak'.</span><span style=\"color: #ae81ff; text-decoration-color: #ae81ff; background-color: #272822\">\\n</span><span style=\"color: #e6db74; text-decoration-color: #e6db74; background-color: #272822\">\"</span><span style=\"background-color: #272822\">                                                                                   </span>  \n",
       "  <span style=\"color: #f8f8f2; text-decoration-color: #f8f8f2; background-color: #272822\">    </span><span style=\"color: #e6db74; text-decoration-color: #e6db74; background-color: #272822\">\"</span><span style=\"color: #ae81ff; text-decoration-color: #ae81ff; background-color: #272822\">\\n</span><span style=\"color: #e6db74; text-decoration-color: #e6db74; background-color: #272822\">\"</span><span style=\"background-color: #272822\">                                                                                                       </span>  \n",
       "  <span style=\"color: #f8f8f2; text-decoration-color: #f8f8f2; background-color: #272822\">    </span><span style=\"color: #e6db74; text-decoration-color: #e6db74; background-color: #272822\">\"A professional DJ can play themed music for superheroes like Batman and Wonder Woman.\"</span><span style=\"background-color: #272822\">                    </span>  \n",
       "  <span style=\"color: #f8f8f2; text-decoration-color: #f8f8f2; background-color: #272822\">)</span><span style=\"background-color: #272822\">                                                                                                              </span>  \n",
       "  <span style=\"color: #f8f8f2; text-decoration-color: #f8f8f2; background-color: #272822\">final_answer(final_answer_variable)</span><span style=\"background-color: #272822\">                                                                            </span>  \n",
       " ───────────────────────────────────────────────────────────────────────────────────────────────────────────────── \n",
       "</pre>\n"
      ]
     },
     "metadata": {},
     "output_type": "display_data"
    },
    {
     "data": {
      "text/plain": [
       "\u001B[1;38;2;212;183;2mOut - Final answer: For decoration, consider a masquerade ball with gold accents and velvet curtains.\u001B[0m\n",
       "\n",
       "\u001B[1;38;2;212;183;2mInteractive experiences could include VR simulations or themed games for guests to engage in.\u001B[0m\n",
       "\n",
       "\u001B[1;38;2;212;183;2mDecorate the venue with iconic superhero logos and projections of Gotham and other superhero cities.\u001B[0m\n",
       "\n",
       "\u001B[1;38;2;212;183;2mCatering options should include dishes named after superheroes, such as 'The Hulk's Green Smoothie' and 'Iron Man's\u001B[0m\n",
       "\u001B[1;38;2;212;183;2mPower Steak'.\u001B[0m\n",
       "\n",
       "\u001B[1;38;2;212;183;2mA professional DJ can play themed music for superheroes like Batman and Wonder Woman.\u001B[0m\n"
      ],
      "text/html": [
       "<pre style=\"white-space:pre;overflow-x:auto;line-height:normal;font-family:Menlo,'DejaVu Sans Mono',consolas,'Courier New',monospace\"><span style=\"color: #d4b702; text-decoration-color: #d4b702; font-weight: bold\">Out - Final answer: For decoration, consider a masquerade ball with gold accents and velvet curtains.</span>\n",
       "\n",
       "<span style=\"color: #d4b702; text-decoration-color: #d4b702; font-weight: bold\">Interactive experiences could include VR simulations or themed games for guests to engage in.</span>\n",
       "\n",
       "<span style=\"color: #d4b702; text-decoration-color: #d4b702; font-weight: bold\">Decorate the venue with iconic superhero logos and projections of Gotham and other superhero cities.</span>\n",
       "\n",
       "<span style=\"color: #d4b702; text-decoration-color: #d4b702; font-weight: bold\">Catering options should include dishes named after superheroes, such as 'The Hulk's Green Smoothie' and 'Iron Man's</span>\n",
       "<span style=\"color: #d4b702; text-decoration-color: #d4b702; font-weight: bold\">Power Steak'.</span>\n",
       "\n",
       "<span style=\"color: #d4b702; text-decoration-color: #d4b702; font-weight: bold\">A professional DJ can play themed music for superheroes like Batman and Wonder Woman.</span>\n",
       "</pre>\n"
      ]
     },
     "metadata": {},
     "output_type": "display_data"
    },
    {
     "data": {
      "text/plain": [
       "\u001B[2m[Step 2: Duration 18.02 seconds| Input tokens: 4,404 | Output tokens: 241]\u001B[0m\n"
      ],
      "text/html": [
       "<pre style=\"white-space:pre;overflow-x:auto;line-height:normal;font-family:Menlo,'DejaVu Sans Mono',consolas,'Courier New',monospace\"><span style=\"color: #7f7f7f; text-decoration-color: #7f7f7f\">[Step 2: Duration 18.02 seconds| Input tokens: 4,404 | Output tokens: 241]</span>\n",
       "</pre>\n"
      ]
     },
     "metadata": {},
     "output_type": "display_data"
    },
    {
     "name": "stdout",
     "output_type": "stream",
     "text": [
      "For decoration, consider a masquerade ball with gold accents and velvet curtains.\n",
      "\n",
      "Interactive experiences could include VR simulations or themed games for guests to engage in.\n",
      "\n",
      "Decorate the venue with iconic superhero logos and projections of Gotham and other superhero cities.\n",
      "\n",
      "Catering options should include dishes named after superheroes, such as 'The Hulk's Green Smoothie' and 'Iron Man's Power Steak'.\n",
      "\n",
      "A professional DJ can play themed music for superheroes like Batman and Wonder Woman.\n"
     ]
    }
   ],
   "execution_count": 5
  },
  {
   "metadata": {
    "ExecuteTime": {
     "end_time": "2025-06-07T05:45:41.568310Z",
     "start_time": "2025-06-07T05:45:41.566196Z"
    }
   },
   "cell_type": "code",
   "source": "",
   "id": "6ba12e2c89ce96c0",
   "outputs": [],
   "execution_count": 5
  }
 ],
 "metadata": {
  "kernelspec": {
   "display_name": "Python 3",
   "language": "python",
   "name": "python3"
  },
  "language_info": {
   "codemirror_mode": {
    "name": "ipython",
    "version": 2
   },
   "file_extension": ".py",
   "mimetype": "text/x-python",
   "name": "python",
   "nbconvert_exporter": "python",
   "pygments_lexer": "ipython2",
   "version": "2.7.6"
  }
 },
 "nbformat": 4,
 "nbformat_minor": 5
}
